{
 "cells": [
  {
   "cell_type": "markdown",
   "metadata": {},
   "source": [
    "# Miscellaneous\n",
    "\n",
    "* Importing Packages\n",
    "* Defining data sources\n",
    "\n",
    "Nothing really interesting happening here.  "
   ]
  },
  {
   "cell_type": "code",
   "execution_count": 49,
   "metadata": {},
   "outputs": [],
   "source": [
    "import pandas as pd\n",
    "\n",
    "%matplotlib inline\n",
    "import pylab as plt\n",
    "import seaborn as sns"
   ]
  },
  {
   "cell_type": "code",
   "execution_count": 4,
   "metadata": {},
   "outputs": [],
   "source": [
    "df_reviews = pd.read_csv('reviews.tsv', sep='\\t')\n",
    "df_products = pd.read_csv('products.tsv', sep='\\t')"
   ]
  },
  {
   "cell_type": "markdown",
   "metadata": {},
   "source": [
    "# Data Exploration  "
   ]
  },
  {
   "cell_type": "markdown",
   "metadata": {},
   "source": [
    "## Reviews.tsv"
   ]
  },
  {
   "cell_type": "code",
   "execution_count": 38,
   "metadata": {},
   "outputs": [
    {
     "data": {
      "text/plain": [
       "(3849, 19)"
      ]
     },
     "execution_count": 38,
     "metadata": {},
     "output_type": "execute_result"
    }
   ],
   "source": [
    "df_reviews.shape"
   ]
  },
  {
   "cell_type": "code",
   "execution_count": 30,
   "metadata": {},
   "outputs": [
    {
     "name": "stdout",
     "output_type": "stream",
     "text": [
      "Wall time: 23 ms\n"
     ]
    },
    {
     "data": {
      "text/html": [
       "<div>\n",
       "<style scoped>\n",
       "    .dataframe tbody tr th:only-of-type {\n",
       "        vertical-align: middle;\n",
       "    }\n",
       "\n",
       "    .dataframe tbody tr th {\n",
       "        vertical-align: top;\n",
       "    }\n",
       "\n",
       "    .dataframe thead th {\n",
       "        text-align: right;\n",
       "    }\n",
       "</style>\n",
       "<table border=\"1\" class=\"dataframe\">\n",
       "  <thead>\n",
       "    <tr style=\"text-align: right;\">\n",
       "      <th></th>\n",
       "      <th>uniqueCount</th>\n",
       "      <th>sample</th>\n",
       "    </tr>\n",
       "  </thead>\n",
       "  <tbody>\n",
       "    <tr>\n",
       "      <th>abuseCount</th>\n",
       "      <td>5</td>\n",
       "      <td>[0, 1, 2, 3, 4]</td>\n",
       "    </tr>\n",
       "    <tr>\n",
       "      <th>customerNickname</th>\n",
       "      <td>351</td>\n",
       "      <td>[iHerb Customer, InnaIgorevna, Maxchen, Mahaab...</td>\n",
       "    </tr>\n",
       "    <tr>\n",
       "      <th>helpfulNo</th>\n",
       "      <td>8</td>\n",
       "      <td>[0, 1, 2, 3, 4, 5, 9, 6]</td>\n",
       "    </tr>\n",
       "    <tr>\n",
       "      <th>helpfulYes</th>\n",
       "      <td>33</td>\n",
       "      <td>[6, 0, 1, 5, 4, 3, 21, 20, 16, 2, 31, 22, 8, 1...</td>\n",
       "    </tr>\n",
       "    <tr>\n",
       "      <th>id</th>\n",
       "      <td>3765</td>\n",
       "      <td>[05c2b17e-c28d-4792-930d-27e787d8d4ad, 80e44af...</td>\n",
       "    </tr>\n",
       "    <tr>\n",
       "      <th>imagesCount</th>\n",
       "      <td>6</td>\n",
       "      <td>[1, 0, 2, 4, 3, 5]</td>\n",
       "    </tr>\n",
       "    <tr>\n",
       "      <th>languageCode</th>\n",
       "      <td>12</td>\n",
       "      <td>[en-US, ru-RU, he-IL, ar-SA, ja-JP, es-MX, fr-...</td>\n",
       "    </tr>\n",
       "    <tr>\n",
       "      <th>postedDate</th>\n",
       "      <td>3765</td>\n",
       "      <td>[2021-01-27T09:04:10.569Z, 2021-02-07T00:56:39...</td>\n",
       "    </tr>\n",
       "    <tr>\n",
       "      <th>productId</th>\n",
       "      <td>27</td>\n",
       "      <td>[103839, 101691, 102455, 103204, 103205, 10384...</td>\n",
       "    </tr>\n",
       "    <tr>\n",
       "      <th>profileInfo.ugcSummary.answerCount</th>\n",
       "      <td>79</td>\n",
       "      <td>[0.0, 7.0, 1.0, 41.0, 2.0, 11.0, 8.0, 63.0, 32...</td>\n",
       "    </tr>\n",
       "    <tr>\n",
       "      <th>profileInfo.ugcSummary.reviewCount</th>\n",
       "      <td>377</td>\n",
       "      <td>[34.0, 37.0, 3.0, 16.0, 19.0, 258.0, 5.0, 62.0...</td>\n",
       "    </tr>\n",
       "    <tr>\n",
       "      <th>ratingValue</th>\n",
       "      <td>5</td>\n",
       "      <td>[50, 40, 30, 20, 10]</td>\n",
       "    </tr>\n",
       "    <tr>\n",
       "      <th>reviewText</th>\n",
       "      <td>3595</td>\n",
       "      <td>[The mask quality and the color is good. It fi...</td>\n",
       "    </tr>\n",
       "    <tr>\n",
       "      <th>reviewTitle</th>\n",
       "      <td>1036</td>\n",
       "      <td>[Dotted Pattern Is Nice, Прекрасно!, Good, Хор...</td>\n",
       "    </tr>\n",
       "    <tr>\n",
       "      <th>reviewed</th>\n",
       "      <td>2</td>\n",
       "      <td>[True, False]</td>\n",
       "    </tr>\n",
       "    <tr>\n",
       "      <th>score</th>\n",
       "      <td>3765</td>\n",
       "      <td>[1614071050.569, 1612659399.055, 1612647602.88...</td>\n",
       "    </tr>\n",
       "    <tr>\n",
       "      <th>languageCode.1</th>\n",
       "      <td>12</td>\n",
       "      <td>[en-US, ru-RU, he-IL, ar-SA, ja-JP, es-MX, fr-...</td>\n",
       "    </tr>\n",
       "    <tr>\n",
       "      <th>translation.reviewText</th>\n",
       "      <td>1870</td>\n",
       "      <td>[nan, The grandson really liked it. Comfortabl...</td>\n",
       "    </tr>\n",
       "    <tr>\n",
       "      <th>translation.reviewTitle</th>\n",
       "      <td>2</td>\n",
       "      <td>[nan, en-US]</td>\n",
       "    </tr>\n",
       "  </tbody>\n",
       "</table>\n",
       "</div>"
      ],
      "text/plain": [
       "                                   uniqueCount  \\\n",
       "abuseCount                                   5   \n",
       "customerNickname                           351   \n",
       "helpfulNo                                    8   \n",
       "helpfulYes                                  33   \n",
       "id                                        3765   \n",
       "imagesCount                                  6   \n",
       "languageCode                                12   \n",
       "postedDate                                3765   \n",
       "productId                                   27   \n",
       "profileInfo.ugcSummary.answerCount          79   \n",
       "profileInfo.ugcSummary.reviewCount         377   \n",
       "ratingValue                                  5   \n",
       "reviewText                                3595   \n",
       "reviewTitle                               1036   \n",
       "reviewed                                     2   \n",
       "score                                     3765   \n",
       "languageCode.1                              12   \n",
       "translation.reviewText                    1870   \n",
       "translation.reviewTitle                      2   \n",
       "\n",
       "                                                                               sample  \n",
       "abuseCount                                                            [0, 1, 2, 3, 4]  \n",
       "customerNickname                    [iHerb Customer, InnaIgorevna, Maxchen, Mahaab...  \n",
       "helpfulNo                                                    [0, 1, 2, 3, 4, 5, 9, 6]  \n",
       "helpfulYes                          [6, 0, 1, 5, 4, 3, 21, 20, 16, 2, 31, 22, 8, 1...  \n",
       "id                                  [05c2b17e-c28d-4792-930d-27e787d8d4ad, 80e44af...  \n",
       "imagesCount                                                        [1, 0, 2, 4, 3, 5]  \n",
       "languageCode                        [en-US, ru-RU, he-IL, ar-SA, ja-JP, es-MX, fr-...  \n",
       "postedDate                          [2021-01-27T09:04:10.569Z, 2021-02-07T00:56:39...  \n",
       "productId                           [103839, 101691, 102455, 103204, 103205, 10384...  \n",
       "profileInfo.ugcSummary.answerCount  [0.0, 7.0, 1.0, 41.0, 2.0, 11.0, 8.0, 63.0, 32...  \n",
       "profileInfo.ugcSummary.reviewCount  [34.0, 37.0, 3.0, 16.0, 19.0, 258.0, 5.0, 62.0...  \n",
       "ratingValue                                                      [50, 40, 30, 20, 10]  \n",
       "reviewText                          [The mask quality and the color is good. It fi...  \n",
       "reviewTitle                         [Dotted Pattern Is Nice, Прекрасно!, Good, Хор...  \n",
       "reviewed                                                                [True, False]  \n",
       "score                               [1614071050.569, 1612659399.055, 1612647602.88...  \n",
       "languageCode.1                      [en-US, ru-RU, he-IL, ar-SA, ja-JP, es-MX, fr-...  \n",
       "translation.reviewText              [nan, The grandson really liked it. Comfortabl...  \n",
       "translation.reviewTitle                                                  [nan, en-US]  "
      ]
     },
     "execution_count": 30,
     "metadata": {},
     "output_type": "execute_result"
    }
   ],
   "source": [
    "%%time\n",
    "\n",
    "df_reviews.apply(lambda x: pd.Series({'uniqueCount':len(x.unique()), 'sample': x.unique().tolist()}) , axis = 0).T"
   ]
  },
  {
   "cell_type": "code",
   "execution_count": 17,
   "metadata": {
    "scrolled": true
   },
   "outputs": [
    {
     "data": {
      "text/html": [
       "<div>\n",
       "<style scoped>\n",
       "    .dataframe tbody tr th:only-of-type {\n",
       "        vertical-align: middle;\n",
       "    }\n",
       "\n",
       "    .dataframe tbody tr th {\n",
       "        vertical-align: top;\n",
       "    }\n",
       "\n",
       "    .dataframe thead th {\n",
       "        text-align: right;\n",
       "    }\n",
       "</style>\n",
       "<table border=\"1\" class=\"dataframe\">\n",
       "  <thead>\n",
       "    <tr style=\"text-align: right;\">\n",
       "      <th></th>\n",
       "      <th>abuseCount</th>\n",
       "      <th>customerNickname</th>\n",
       "      <th>helpfulNo</th>\n",
       "      <th>helpfulYes</th>\n",
       "      <th>id</th>\n",
       "      <th>imagesCount</th>\n",
       "      <th>languageCode</th>\n",
       "      <th>postedDate</th>\n",
       "      <th>productId</th>\n",
       "      <th>profileInfo.ugcSummary.answerCount</th>\n",
       "      <th>profileInfo.ugcSummary.reviewCount</th>\n",
       "      <th>ratingValue</th>\n",
       "      <th>reviewText</th>\n",
       "      <th>reviewTitle</th>\n",
       "      <th>reviewed</th>\n",
       "      <th>score</th>\n",
       "      <th>languageCode.1</th>\n",
       "      <th>translation.reviewText</th>\n",
       "      <th>translation.reviewTitle</th>\n",
       "    </tr>\n",
       "  </thead>\n",
       "  <tbody>\n",
       "    <tr>\n",
       "      <th>1619</th>\n",
       "      <td>4</td>\n",
       "      <td>iHerb Customer</td>\n",
       "      <td>1</td>\n",
       "      <td>50</td>\n",
       "      <td>1b984b26-b290-4ffb-8e8e-8ed8cbb5dbdd</td>\n",
       "      <td>1</td>\n",
       "      <td>en-US</td>\n",
       "      <td>2020-05-20T17:39:59.67Z</td>\n",
       "      <td>99829</td>\n",
       "      <td>0.0</td>\n",
       "      <td>6.0</td>\n",
       "      <td>40</td>\n",
       "      <td>Bought this on a whim as a \"trial\" offer on iH...</td>\n",
       "      <td>Fits securely, stylish, should offer some prot...</td>\n",
       "      <td>True</td>\n",
       "      <td>1.609048e+09</td>\n",
       "      <td>en-US</td>\n",
       "      <td>NaN</td>\n",
       "      <td>NaN</td>\n",
       "    </tr>\n",
       "  </tbody>\n",
       "</table>\n",
       "</div>"
      ],
      "text/plain": [
       "      abuseCount customerNickname  helpfulNo  helpfulYes  \\\n",
       "1619           4   iHerb Customer          1          50   \n",
       "\n",
       "                                        id  imagesCount languageCode  \\\n",
       "1619  1b984b26-b290-4ffb-8e8e-8ed8cbb5dbdd            1        en-US   \n",
       "\n",
       "                   postedDate  productId  profileInfo.ugcSummary.answerCount  \\\n",
       "1619  2020-05-20T17:39:59.67Z      99829                                 0.0   \n",
       "\n",
       "      profileInfo.ugcSummary.reviewCount  ratingValue  \\\n",
       "1619                                 6.0           40   \n",
       "\n",
       "                                             reviewText  \\\n",
       "1619  Bought this on a whim as a \"trial\" offer on iH...   \n",
       "\n",
       "                                            reviewTitle  reviewed  \\\n",
       "1619  Fits securely, stylish, should offer some prot...      True   \n",
       "\n",
       "             score languageCode.1 translation.reviewText  \\\n",
       "1619  1.609048e+09          en-US                    NaN   \n",
       "\n",
       "     translation.reviewTitle  \n",
       "1619                     NaN  "
      ]
     },
     "execution_count": 17,
     "metadata": {},
     "output_type": "execute_result"
    }
   ],
   "source": [
    "df_reviews[df_reviews.abuseCount == 4]"
   ]
  },
  {
   "cell_type": "markdown",
   "metadata": {},
   "source": [
    "## Products.tsv"
   ]
  },
  {
   "cell_type": "code",
   "execution_count": 39,
   "metadata": {},
   "outputs": [
    {
     "data": {
      "text/plain": [
       "(27, 4)"
      ]
     },
     "execution_count": 39,
     "metadata": {},
     "output_type": "execute_result"
    }
   ],
   "source": [
    "df_products.shape"
   ]
  },
  {
   "cell_type": "code",
   "execution_count": 31,
   "metadata": {
    "scrolled": true
   },
   "outputs": [
    {
     "name": "stdout",
     "output_type": "stream",
     "text": [
      "Wall time: 5 ms\n"
     ]
    },
    {
     "data": {
      "text/html": [
       "<div>\n",
       "<style scoped>\n",
       "    .dataframe tbody tr th:only-of-type {\n",
       "        vertical-align: middle;\n",
       "    }\n",
       "\n",
       "    .dataframe tbody tr th {\n",
       "        vertical-align: top;\n",
       "    }\n",
       "\n",
       "    .dataframe thead th {\n",
       "        text-align: right;\n",
       "    }\n",
       "</style>\n",
       "<table border=\"1\" class=\"dataframe\">\n",
       "  <thead>\n",
       "    <tr style=\"text-align: right;\">\n",
       "      <th></th>\n",
       "      <th>uniqueCount</th>\n",
       "      <th>sample</th>\n",
       "    </tr>\n",
       "  </thead>\n",
       "  <tbody>\n",
       "    <tr>\n",
       "      <th>product_id</th>\n",
       "      <td>27</td>\n",
       "      <td>[103205, 101774, 101955, 103838, 102734, 10083...</td>\n",
       "    </tr>\n",
       "    <tr>\n",
       "      <th>product_name</th>\n",
       "      <td>26</td>\n",
       "      <td>[Hwipure, Disposable KF94 ( N95 / KN95/ FFP2 )...</td>\n",
       "    </tr>\n",
       "    <tr>\n",
       "      <th>product_price</th>\n",
       "      <td>18</td>\n",
       "      <td>[2.95, 8.86, 6.85, 15.35, 5.61, 3.93, 50.19, 6...</td>\n",
       "    </tr>\n",
       "    <tr>\n",
       "      <th>price_currency</th>\n",
       "      <td>1</td>\n",
       "      <td>[AUD]</td>\n",
       "    </tr>\n",
       "    <tr>\n",
       "      <th>product_availability</th>\n",
       "      <td>1</td>\n",
       "      <td>[http://schema.org/InStock]</td>\n",
       "    </tr>\n",
       "    <tr>\n",
       "      <th>product_url</th>\n",
       "      <td>27</td>\n",
       "      <td>[https://au.iherb.com/pr/Hwipure-Disposable-KF...</td>\n",
       "    </tr>\n",
       "    <tr>\n",
       "      <th>source_url</th>\n",
       "      <td>1</td>\n",
       "      <td>[https://au.iherb.com/c/protective-face-masks]</td>\n",
       "    </tr>\n",
       "  </tbody>\n",
       "</table>\n",
       "</div>"
      ],
      "text/plain": [
       "                     uniqueCount  \\\n",
       "product_id                    27   \n",
       "product_name                  26   \n",
       "product_price                 18   \n",
       "price_currency                 1   \n",
       "product_availability           1   \n",
       "product_url                   27   \n",
       "source_url                     1   \n",
       "\n",
       "                                                                 sample  \n",
       "product_id            [103205, 101774, 101955, 103838, 102734, 10083...  \n",
       "product_name          [Hwipure, Disposable KF94 ( N95 / KN95/ FFP2 )...  \n",
       "product_price         [2.95, 8.86, 6.85, 15.35, 5.61, 3.93, 50.19, 6...  \n",
       "price_currency                                                    [AUD]  \n",
       "product_availability                        [http://schema.org/InStock]  \n",
       "product_url           [https://au.iherb.com/pr/Hwipure-Disposable-KF...  \n",
       "source_url               [https://au.iherb.com/c/protective-face-masks]  "
      ]
     },
     "execution_count": 31,
     "metadata": {},
     "output_type": "execute_result"
    }
   ],
   "source": [
    "%%time\n",
    "\n",
    "df_products.apply(lambda x: pd.Series({'uniqueCount':len(x.unique()), 'sample': x.unique().tolist()}) , axis = 0).T"
   ]
  },
  {
   "cell_type": "code",
   "execution_count": 32,
   "metadata": {},
   "outputs": [],
   "source": [
    "cols_product = [\n",
    "    'product_id',      # 27 unique products in reviews too\n",
    "    'product_name',    # one duplicated name\n",
    "    'product_price',   # all prices in AUD\n",
    "    'product_url'      # find the page for the mask\n",
    "]"
   ]
  },
  {
   "cell_type": "code",
   "execution_count": 35,
   "metadata": {},
   "outputs": [],
   "source": [
    "df_products = df_products[cols_product]"
   ]
  },
  {
   "cell_type": "markdown",
   "metadata": {},
   "source": [
    "## Join Data"
   ]
  },
  {
   "cell_type": "code",
   "execution_count": 36,
   "metadata": {
    "scrolled": false
   },
   "outputs": [
    {
     "name": "stdout",
     "output_type": "stream",
     "text": [
      "Wall time: 42.2 ms\n"
     ]
    },
    {
     "data": {
      "text/html": [
       "<div>\n",
       "<style scoped>\n",
       "    .dataframe tbody tr th:only-of-type {\n",
       "        vertical-align: middle;\n",
       "    }\n",
       "\n",
       "    .dataframe tbody tr th {\n",
       "        vertical-align: top;\n",
       "    }\n",
       "\n",
       "    .dataframe thead th {\n",
       "        text-align: right;\n",
       "    }\n",
       "</style>\n",
       "<table border=\"1\" class=\"dataframe\">\n",
       "  <thead>\n",
       "    <tr style=\"text-align: right;\">\n",
       "      <th></th>\n",
       "      <th>uniqueCount</th>\n",
       "      <th>sample</th>\n",
       "    </tr>\n",
       "  </thead>\n",
       "  <tbody>\n",
       "    <tr>\n",
       "      <th>product_id</th>\n",
       "      <td>27</td>\n",
       "      <td>[103205, 101774, 101955, 103838, 102734, 10083...</td>\n",
       "    </tr>\n",
       "    <tr>\n",
       "      <th>product_name</th>\n",
       "      <td>26</td>\n",
       "      <td>[Hwipure, Disposable KF94 ( N95 / KN95/ FFP2 )...</td>\n",
       "    </tr>\n",
       "    <tr>\n",
       "      <th>product_price</th>\n",
       "      <td>18</td>\n",
       "      <td>[2.95, 8.86, 6.85, 15.35, 5.61, 3.93, 50.19, 6...</td>\n",
       "    </tr>\n",
       "    <tr>\n",
       "      <th>product_url</th>\n",
       "      <td>27</td>\n",
       "      <td>[https://au.iherb.com/pr/Hwipure-Disposable-KF...</td>\n",
       "    </tr>\n",
       "    <tr>\n",
       "      <th>abuseCount</th>\n",
       "      <td>5</td>\n",
       "      <td>[0, 1, 2, 3, 4]</td>\n",
       "    </tr>\n",
       "    <tr>\n",
       "      <th>customerNickname</th>\n",
       "      <td>351</td>\n",
       "      <td>[iHerb Customer, djagi, TMC, INNAg, emmaiherb,...</td>\n",
       "    </tr>\n",
       "    <tr>\n",
       "      <th>helpfulNo</th>\n",
       "      <td>8</td>\n",
       "      <td>[1, 0, 2, 3, 4, 9, 6, 5]</td>\n",
       "    </tr>\n",
       "    <tr>\n",
       "      <th>helpfulYes</th>\n",
       "      <td>33</td>\n",
       "      <td>[22, 20, 8, 10, 1, 4, 0, 2, 3, 7, 16, 5, 15, 1...</td>\n",
       "    </tr>\n",
       "    <tr>\n",
       "      <th>id</th>\n",
       "      <td>3765</td>\n",
       "      <td>[f994c3a0-c667-47a3-ba13-b18926b3a5c1, 018c277...</td>\n",
       "    </tr>\n",
       "    <tr>\n",
       "      <th>imagesCount</th>\n",
       "      <td>6</td>\n",
       "      <td>[0, 1, 2, 3, 4, 5]</td>\n",
       "    </tr>\n",
       "    <tr>\n",
       "      <th>languageCode</th>\n",
       "      <td>12</td>\n",
       "      <td>[en-US, ru-RU, ar-SA, fr-FR, zh-TW, zh-CN, ja-...</td>\n",
       "    </tr>\n",
       "    <tr>\n",
       "      <th>postedDate</th>\n",
       "      <td>3765</td>\n",
       "      <td>[2021-01-31T11:22:33.143Z, 2021-01-27T14:04:20...</td>\n",
       "    </tr>\n",
       "    <tr>\n",
       "      <th>productId</th>\n",
       "      <td>27</td>\n",
       "      <td>[103205, 101774, 101955, 103838, 102734, 10083...</td>\n",
       "    </tr>\n",
       "    <tr>\n",
       "      <th>profileInfo.ugcSummary.answerCount</th>\n",
       "      <td>79</td>\n",
       "      <td>[0.0, 282.0, 396.0, 1.0, 373.0, 2.0, 122.0, 5....</td>\n",
       "    </tr>\n",
       "    <tr>\n",
       "      <th>profileInfo.ugcSummary.reviewCount</th>\n",
       "      <td>377</td>\n",
       "      <td>[24.0, 179.0, 108.0, 119.0, 87.0, 318.0, 17.0,...</td>\n",
       "    </tr>\n",
       "    <tr>\n",
       "      <th>ratingValue</th>\n",
       "      <td>5</td>\n",
       "      <td>[50, 40, 30, 20, 10]</td>\n",
       "    </tr>\n",
       "    <tr>\n",
       "      <th>reviewText</th>\n",
       "      <td>3595</td>\n",
       "      <td>[It is good to get such a mask, as they have r...</td>\n",
       "    </tr>\n",
       "    <tr>\n",
       "      <th>reviewTitle</th>\n",
       "      <td>1036</td>\n",
       "      <td>[Excellent!, Очень комфортная маска., Прекрасн...</td>\n",
       "    </tr>\n",
       "    <tr>\n",
       "      <th>reviewed</th>\n",
       "      <td>2</td>\n",
       "      <td>[False, True]</td>\n",
       "    </tr>\n",
       "    <tr>\n",
       "      <th>score</th>\n",
       "      <td>3765</td>\n",
       "      <td>[1620256953.143, 1619532260.879, 1614687501.92...</td>\n",
       "    </tr>\n",
       "    <tr>\n",
       "      <th>languageCode.1</th>\n",
       "      <td>12</td>\n",
       "      <td>[en-US, ru-RU, ar-SA, fr-FR, zh-TW, zh-CN, ja-...</td>\n",
       "    </tr>\n",
       "    <tr>\n",
       "      <th>translation.reviewText</th>\n",
       "      <td>1870</td>\n",
       "      <td>[nan, Very comfortable mask. This mask is desi...</td>\n",
       "    </tr>\n",
       "    <tr>\n",
       "      <th>translation.reviewTitle</th>\n",
       "      <td>2</td>\n",
       "      <td>[nan, en-US]</td>\n",
       "    </tr>\n",
       "  </tbody>\n",
       "</table>\n",
       "</div>"
      ],
      "text/plain": [
       "                                   uniqueCount  \\\n",
       "product_id                                  27   \n",
       "product_name                                26   \n",
       "product_price                               18   \n",
       "product_url                                 27   \n",
       "abuseCount                                   5   \n",
       "customerNickname                           351   \n",
       "helpfulNo                                    8   \n",
       "helpfulYes                                  33   \n",
       "id                                        3765   \n",
       "imagesCount                                  6   \n",
       "languageCode                                12   \n",
       "postedDate                                3765   \n",
       "productId                                   27   \n",
       "profileInfo.ugcSummary.answerCount          79   \n",
       "profileInfo.ugcSummary.reviewCount         377   \n",
       "ratingValue                                  5   \n",
       "reviewText                                3595   \n",
       "reviewTitle                               1036   \n",
       "reviewed                                     2   \n",
       "score                                     3765   \n",
       "languageCode.1                              12   \n",
       "translation.reviewText                    1870   \n",
       "translation.reviewTitle                      2   \n",
       "\n",
       "                                                                               sample  \n",
       "product_id                          [103205, 101774, 101955, 103838, 102734, 10083...  \n",
       "product_name                        [Hwipure, Disposable KF94 ( N95 / KN95/ FFP2 )...  \n",
       "product_price                       [2.95, 8.86, 6.85, 15.35, 5.61, 3.93, 50.19, 6...  \n",
       "product_url                         [https://au.iherb.com/pr/Hwipure-Disposable-KF...  \n",
       "abuseCount                                                            [0, 1, 2, 3, 4]  \n",
       "customerNickname                    [iHerb Customer, djagi, TMC, INNAg, emmaiherb,...  \n",
       "helpfulNo                                                    [1, 0, 2, 3, 4, 9, 6, 5]  \n",
       "helpfulYes                          [22, 20, 8, 10, 1, 4, 0, 2, 3, 7, 16, 5, 15, 1...  \n",
       "id                                  [f994c3a0-c667-47a3-ba13-b18926b3a5c1, 018c277...  \n",
       "imagesCount                                                        [0, 1, 2, 3, 4, 5]  \n",
       "languageCode                        [en-US, ru-RU, ar-SA, fr-FR, zh-TW, zh-CN, ja-...  \n",
       "postedDate                          [2021-01-31T11:22:33.143Z, 2021-01-27T14:04:20...  \n",
       "productId                           [103205, 101774, 101955, 103838, 102734, 10083...  \n",
       "profileInfo.ugcSummary.answerCount  [0.0, 282.0, 396.0, 1.0, 373.0, 2.0, 122.0, 5....  \n",
       "profileInfo.ugcSummary.reviewCount  [24.0, 179.0, 108.0, 119.0, 87.0, 318.0, 17.0,...  \n",
       "ratingValue                                                      [50, 40, 30, 20, 10]  \n",
       "reviewText                          [It is good to get such a mask, as they have r...  \n",
       "reviewTitle                         [Excellent!, Очень комфортная маска., Прекрасн...  \n",
       "reviewed                                                                [False, True]  \n",
       "score                               [1620256953.143, 1619532260.879, 1614687501.92...  \n",
       "languageCode.1                      [en-US, ru-RU, ar-SA, fr-FR, zh-TW, zh-CN, ja-...  \n",
       "translation.reviewText              [nan, Very comfortable mask. This mask is desi...  \n",
       "translation.reviewTitle                                                  [nan, en-US]  "
      ]
     },
     "execution_count": 36,
     "metadata": {},
     "output_type": "execute_result"
    }
   ],
   "source": [
    "%%time\n",
    "\n",
    "df_productReview = pd.merge(df_products, df_reviews,\n",
    "                           left_on = 'product_id', right_on = 'productId',\n",
    "                           how = 'inner')\n",
    "\n",
    "\n",
    "df_productReview.apply(lambda x: pd.Series({'uniqueCount':len(x.unique()), 'sample': x.unique().tolist()}) , axis = 0).T"
   ]
  },
  {
   "cell_type": "code",
   "execution_count": 59,
   "metadata": {},
   "outputs": [],
   "source": [
    "# df_productReview.to_csv('ProductReviews.csv')"
   ]
  },
  {
   "cell_type": "markdown",
   "metadata": {},
   "source": [
    "# Visualisations  "
   ]
  },
  {
   "cell_type": "markdown",
   "metadata": {},
   "source": [
    "## Preliminary Questions  \n",
    "\n",
    "* Data understanding   \n",
    "    * abuseCount  \n",
    "    * helpfulNo\n",
    "    * helpfulYes\n",
    "    * profileInfo.ugcSummary.answerCount\n",
    "    * profileInfo.ugcSummary.reviewCount\t\n",
    "    * score\n",
    "\n",
    "<br>  \n",
    "\n",
    "* Does each *id* uniquely identify each user making the comment?\n",
    "    * currently assumed to be so as reviews.tsv has 3849 rows while there is only 3765 *id* values\n",
    "* what is the distribution of reviews in each feature  \n"
   ]
  },
  {
   "cell_type": "code",
   "execution_count": 73,
   "metadata": {},
   "outputs": [],
   "source": [
    "cols = ['product_id',\n",
    " 'product_price',\n",
    " 'abuseCount',\n",
    " 'helpfulNo',\n",
    " 'helpfulYes',\n",
    " 'imagesCount',\n",
    " 'ratingValue',\n",
    " 'reviewed',\n",
    " 'languageCode.1',\n",
    " 'languageCode']"
   ]
  },
  {
   "cell_type": "code",
   "execution_count": 78,
   "metadata": {},
   "outputs": [
    {
     "data": {
      "image/png": "[encoded data removed]",
      "text/plain": [
       "<Figure size 1440x2160 with 10 Axes>"
      ]
     },
     "metadata": {
      "needs_background": "light"
     },
     "output_type": "display_data"
    }
   ],
   "source": [
    "plt.figure(figsize=(20, 30))\n",
    "\n",
    "for i in range(len(cols)):\n",
    "    \n",
    "    plt.subplot((len(cols)//3)+1, 3, i+1)\n",
    "    df_productReview[cols[i]].value_counts().plot.barh()\n",
    "    plt.title(f\"Review Count per {cols[i]}\")\n",
    "    plt.ylabel(cols[i])\n",
    "    plt.xlabel('Review Count')"
   ]
  },
  {
   "cell_type": "markdown",
   "metadata": {},
   "source": [
    "## Advance Questions  \n",
    "\n",
    "* what other information might be useful to the analysis?\n",
    "* What is the sentiment of the review?\n",
    "* Does the name of the product contribute to their sales?\n",
    "* Is customerNickname useful?  \n",
    "* How can the review title be useful?\n",
    "* How can the review text be useful?\n",
    "\n",
    " \n"
   ]
  },
  {
   "cell_type": "code",
   "execution_count": null,
   "metadata": {},
   "outputs": [],
   "source": []
  },
  {
   "cell_type": "code",
   "execution_count": null,
   "metadata": {},
   "outputs": [],
   "source": []
  },
  {
   "cell_type": "code",
   "execution_count": null,
   "metadata": {},
   "outputs": [],
   "source": []
  },
  {
   "cell_type": "code",
   "execution_count": null,
   "metadata": {},
   "outputs": [],
   "source": []
  },
  {
   "cell_type": "code",
   "execution_count": null,
   "metadata": {},
   "outputs": [],
   "source": []
  },
  {
   "cell_type": "code",
   "execution_count": null,
   "metadata": {},
   "outputs": [],
   "source": []
  },
  {
   "cell_type": "code",
   "execution_count": null,
   "metadata": {},
   "outputs": [],
   "source": []
  }
 ],
 "metadata": {
  "kernelspec": {
   "display_name": "Python 3",
   "language": "python",
   "name": "python3"
  },
  "language_info": {
   "codemirror_mode": {
    "name": "ipython",
    "version": 3
   },
   "file_extension": ".py",
   "mimetype": "text/x-python",
   "name": "python",
   "nbconvert_exporter": "python",
   "pygments_lexer": "ipython3",
   "version": "3.7.6"
  }
 },
 "nbformat": 4,
 "nbformat_minor": 4
}
